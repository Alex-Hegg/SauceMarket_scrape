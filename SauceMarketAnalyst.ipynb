{
  "nbformat": 4,
  "nbformat_minor": 0,
  "metadata": {
    "colab": {
      "provenance": [],
      "authorship_tag": "ABX9TyPN87VpjEjkBAgvCiiojq62",
      "include_colab_link": true
    },
    "kernelspec": {
      "name": "python3",
      "display_name": "Python 3"
    },
    "language_info": {
      "name": "python"
    }
  },
  "cells": [
    {
      "cell_type": "markdown",
      "metadata": {
        "id": "view-in-github",
        "colab_type": "text"
      },
      "source": [
        "<a href=\"https://colab.research.google.com/github/Alex-Hegg/SauceMarket_scrape/blob/main/SauceMarketAnalyst.ipynb\" target=\"_parent\"><img src=\"https://colab.research.google.com/assets/colab-badge.svg\" alt=\"Open In Colab\"/></a>"
      ]
    },
    {
      "cell_type": "code",
      "execution_count": null,
      "metadata": {
        "id": "2ClfE2luV-Zg"
      },
      "outputs": [],
      "source": [
        "###TacoShack Sauce Market Analyst\n",
        "##Tasks:\n",
        "#Scrape sauce data\n",
        "#plot individual and combined prices/trends\n",
        "#run analyses (look up reasonable models)\n",
        "#automate the above with hourly pings (at XX:05 since prices update at xx:00)"
      ]
    },
    {
      "cell_type": "code",
      "source": [
        "###Scraping\n",
        "##Consider using Beautiful Soup later\n",
        "#Start by just using Pandas\n",
        "\n",
        "import pandas as pd             # import pandas for data wrangling\n",
        "import requests                 # import requests for API interface\n",
        "import html5lib                 # import html5lib for parsing\n",
        "import bs4                      # import bs4 for parsing\n",
        "import datetime                 # import datetime for timestamping\n",
        "import matplotlib.pyplot as plt # import matplotlib for plotting"
      ],
      "metadata": {
        "id": "6IEScxabWfsy"
      },
      "execution_count": 2,
      "outputs": []
    },
    {
      "cell_type": "code",
      "source": [
        "url = 'https://tacoshack.online/saucemarket' #access SauceMarket url\n",
        "r = requests.get(url)\n",
        "print(r.content)"
      ],
      "metadata": {
        "id": "o82IpTkBXHfk",
        "colab": {
          "base_uri": "https://localhost:8080/"
        },
        "outputId": "1ec8fb78-859f-4e1e-9f04-8647dc315340"
      },
      "execution_count": null,
      "outputs": [
        {
          "output_type": "stream",
          "name": "stdout",
          "text": [
            "b'<!DOCTYPE html><html lang=\"en\"><head><link rel=\"preconnect\" href=\"https://fonts.gstatic.com\" crossorigin>\\n<meta charset=\"utf-8\">\\n<title>TacoShack Dashboard</title>\\n<base href=\"/\">\\n<meta name=\"viewport\" content=\"width=device-width, initial-scale=1\">\\n<link rel=\"icon\" href=\"assets/favicon/tacoshack.png\">\\n<link rel=\"manifest\" href=\"assets/favicon/manifest.json\">\\n<meta name=\"msapplication-TileColor\" content=\"#ffffff\">\\n<meta name=\"msapplication-TileImage\" content=\"assets/favicon/ms-icon-144x144.png\">\\n<style type=\"text/css\">@font-face{font-family:\\'Roboto\\';font-style:normal;font-weight:300;src:url(https://fonts.gstatic.com/s/roboto/v30/KFOlCnqEu92Fr1MmSU5fCRc4AMP6lbBP.woff2) format(\\'woff2\\');unicode-range:U+0460-052F, U+1C80-1C88, U+20B4, U+2DE0-2DFF, U+A640-A69F, U+FE2E-FE2F;}@font-face{font-family:\\'Roboto\\';font-style:normal;font-weight:300;src:url(https://fonts.gstatic.com/s/roboto/v30/KFOlCnqEu92Fr1MmSU5fABc4AMP6lbBP.woff2) format(\\'woff2\\');unicode-range:U+0301, U+0400-045F, U+0490-0491, U+04B0-04B1, U+2116;}@font-face{font-family:\\'Roboto\\';font-style:normal;font-weight:300;src:url(https://fonts.gstatic.com/s/roboto/v30/KFOlCnqEu92Fr1MmSU5fCBc4AMP6lbBP.woff2) format(\\'woff2\\');unicode-range:U+1F00-1FFF;}@font-face{font-family:\\'Roboto\\';font-style:normal;font-weight:300;src:url(https://fonts.gstatic.com/s/roboto/v30/KFOlCnqEu92Fr1MmSU5fBxc4AMP6lbBP.woff2) format(\\'woff2\\');unicode-range:U+0370-0377, U+037A-037F, U+0384-038A, U+038C, U+038E-03A1, U+03A3-03FF;}@font-face{font-family:\\'Roboto\\';font-style:normal;font-weight:300;src:url(https://fonts.gstatic.com/s/roboto/v30/KFOlCnqEu92Fr1MmSU5fCxc4AMP6lbBP.woff2) format(\\'woff2\\');unicode-range:U+0102-0103, U+0110-0111, U+0128-0129, U+0168-0169, U+01A0-01A1, U+01AF-01B0, U+0300-0301, U+0303-0304, U+0308-0309, U+0323, U+0329, U+1EA0-1EF9, U+20AB;}@font-face{font-family:\\'Roboto\\';font-style:normal;font-weight:300;src:url(https://fonts.gstatic.com/s/roboto/v30/KFOlCnqEu92Fr1MmSU5fChc4AMP6lbBP.woff2) format(\\'woff2\\');unicode-range:U+0100-02AF, U+0304, U+0308, U+0329, U+1E00-1E9F, U+1EF2-1EFF, U+2020, U+20A0-20AB, U+20AD-20C0, U+2113, U+2C60-2C7F, U+A720-A7FF;}@font-face{font-family:\\'Roboto\\';font-style:normal;font-weight:300;src:url(https://fonts.gstatic.com/s/roboto/v30/KFOlCnqEu92Fr1MmSU5fBBc4AMP6lQ.woff2) format(\\'woff2\\');unicode-range:U+0000-00FF, U+0131, U+0152-0153, U+02BB-02BC, U+02C6, U+02DA, U+02DC, U+0304, U+0308, U+0329, U+2000-206F, U+2074, U+20AC, U+2122, U+2191, U+2193, U+2212, U+2215, U+FEFF, U+FFFD;}@font-face{font-family:\\'Roboto\\';font-style:normal;font-weight:400;src:url(https://fonts.gstatic.com/s/roboto/v30/KFOmCnqEu92Fr1Mu72xKKTU1Kvnz.woff2) format(\\'woff2\\');unicode-range:U+0460-052F, U+1C80-1C88, U+20B4, U+2DE0-2DFF, U+A640-A69F, U+FE2E-FE2F;}@font-face{font-family:\\'Roboto\\';font-style:normal;font-weight:400;src:url(https://fonts.gstatic.com/s/roboto/v30/KFOmCnqEu92Fr1Mu5mxKKTU1Kvnz.woff2) format(\\'woff2\\');unicode-range:U+0301, U+0400-045F, U+0490-0491, U+04B0-04B1, U+2116;}@font-face{font-family:\\'Roboto\\';font-style:normal;font-weight:400;src:url(https://fonts.gstatic.com/s/roboto/v30/KFOmCnqEu92Fr1Mu7mxKKTU1Kvnz.woff2) format(\\'woff2\\');unicode-range:U+1F00-1FFF;}@font-face{font-family:\\'Roboto\\';font-style:normal;font-weight:400;src:url(https://fonts.gstatic.com/s/roboto/v30/KFOmCnqEu92Fr1Mu4WxKKTU1Kvnz.woff2) format(\\'woff2\\');unicode-range:U+0370-0377, U+037A-037F, U+0384-038A, U+038C, U+038E-03A1, U+03A3-03FF;}@font-face{font-family:\\'Roboto\\';font-style:normal;font-weight:400;src:url(https://fonts.gstatic.com/s/roboto/v30/KFOmCnqEu92Fr1Mu7WxKKTU1Kvnz.woff2) format(\\'woff2\\');unicode-range:U+0102-0103, U+0110-0111, U+0128-0129, U+0168-0169, U+01A0-01A1, U+01AF-01B0, U+0300-0301, U+0303-0304, U+0308-0309, U+0323, U+0329, U+1EA0-1EF9, U+20AB;}@font-face{font-family:\\'Roboto\\';font-style:normal;font-weight:400;src:url(https://fonts.gstatic.com/s/roboto/v30/KFOmCnqEu92Fr1Mu7GxKKTU1Kvnz.woff2) format(\\'woff2\\');unicode-range:U+0100-02AF, U+0304, U+0308, U+0329, U+1E00-1E9F, U+1EF2-1EFF, U+2020, U+20A0-20AB, U+20AD-20C0, U+2113, U+2C60-2C7F, U+A720-A7FF;}@font-face{font-family:\\'Roboto\\';font-style:normal;font-weight:400;src:url(https://fonts.gstatic.com/s/roboto/v30/KFOmCnqEu92Fr1Mu4mxKKTU1Kg.woff2) format(\\'woff2\\');unicode-range:U+0000-00FF, U+0131, U+0152-0153, U+02BB-02BC, U+02C6, U+02DA, U+02DC, U+0304, U+0308, U+0329, U+2000-206F, U+2074, U+20AC, U+2122, U+2191, U+2193, U+2212, U+2215, U+FEFF, U+FFFD;}@font-face{font-family:\\'Roboto\\';font-style:normal;font-weight:500;src:url(https://fonts.gstatic.com/s/roboto/v30/KFOlCnqEu92Fr1MmEU9fCRc4AMP6lbBP.woff2) format(\\'woff2\\');unicode-range:U+0460-052F, U+1C80-1C88, U+20B4, U+2DE0-2DFF, U+A640-A69F, U+FE2E-FE2F;}@font-face{font-family:\\'Roboto\\';font-style:normal;font-weight:500;src:url(https://fonts.gstatic.com/s/roboto/v30/KFOlCnqEu92Fr1MmEU9fABc4AMP6lbBP.woff2) format(\\'woff2\\');unicode-range:U+0301, U+0400-045F, U+0490-0491, U+04B0-04B1, U+2116;}@font-face{font-family:\\'Roboto\\';font-style:normal;font-weight:500;src:url(https://fonts.gstatic.com/s/roboto/v30/KFOlCnqEu92Fr1MmEU9fCBc4AMP6lbBP.woff2) format(\\'woff2\\');unicode-range:U+1F00-1FFF;}@font-face{font-family:\\'Roboto\\';font-style:normal;font-weight:500;src:url(https://fonts.gstatic.com/s/roboto/v30/KFOlCnqEu92Fr1MmEU9fBxc4AMP6lbBP.woff2) format(\\'woff2\\');unicode-range:U+0370-0377, U+037A-037F, U+0384-038A, U+038C, U+038E-03A1, U+03A3-03FF;}@font-face{font-family:\\'Roboto\\';font-style:normal;font-weight:500;src:url(https://fonts.gstatic.com/s/roboto/v30/KFOlCnqEu92Fr1MmEU9fCxc4AMP6lbBP.woff2) format(\\'woff2\\');unicode-range:U+0102-0103, U+0110-0111, U+0128-0129, U+0168-0169, U+01A0-01A1, U+01AF-01B0, U+0300-0301, U+0303-0304, U+0308-0309, U+0323, U+0329, U+1EA0-1EF9, U+20AB;}@font-face{font-family:\\'Roboto\\';font-style:normal;font-weight:500;src:url(https://fonts.gstatic.com/s/roboto/v30/KFOlCnqEu92Fr1MmEU9fChc4AMP6lbBP.woff2) format(\\'woff2\\');unicode-range:U+0100-02AF, U+0304, U+0308, U+0329, U+1E00-1E9F, U+1EF2-1EFF, U+2020, U+20A0-20AB, U+20AD-20C0, U+2113, U+2C60-2C7F, U+A720-A7FF;}@font-face{font-family:\\'Roboto\\';font-style:normal;font-weight:500;src:url(https://fonts.gstatic.com/s/roboto/v30/KFOlCnqEu92Fr1MmEU9fBBc4AMP6lQ.woff2) format(\\'woff2\\');unicode-range:U+0000-00FF, U+0131, U+0152-0153, U+02BB-02BC, U+02C6, U+02DA, U+02DC, U+0304, U+0308, U+0329, U+2000-206F, U+2074, U+20AC, U+2122, U+2191, U+2193, U+2212, U+2215, U+FEFF, U+FFFD;}@font-face{font-family:\\'Roboto\\';font-style:normal;font-weight:700;src:url(https://fonts.gstatic.com/s/roboto/v30/KFOlCnqEu92Fr1MmWUlfCRc4AMP6lbBP.woff2) format(\\'woff2\\');unicode-range:U+0460-052F, U+1C80-1C88, U+20B4, U+2DE0-2DFF, U+A640-A69F, U+FE2E-FE2F;}@font-face{font-family:\\'Roboto\\';font-style:normal;font-weight:700;src:url(https://fonts.gstatic.com/s/roboto/v30/KFOlCnqEu92Fr1MmWUlfABc4AMP6lbBP.woff2) format(\\'woff2\\');unicode-range:U+0301, U+0400-045F, U+0490-0491, U+04B0-04B1, U+2116;}@font-face{font-family:\\'Roboto\\';font-style:normal;font-weight:700;src:url(https://fonts.gstatic.com/s/roboto/v30/KFOlCnqEu92Fr1MmWUlfCBc4AMP6lbBP.woff2) format(\\'woff2\\');unicode-range:U+1F00-1FFF;}@font-face{font-family:\\'Roboto\\';font-style:normal;font-weight:700;src:url(https://fonts.gstatic.com/s/roboto/v30/KFOlCnqEu92Fr1MmWUlfBxc4AMP6lbBP.woff2) format(\\'woff2\\');unicode-range:U+0370-0377, U+037A-037F, U+0384-038A, U+038C, U+038E-03A1, U+03A3-03FF;}@font-face{font-family:\\'Roboto\\';font-style:normal;font-weight:700;src:url(https://fonts.gstatic.com/s/roboto/v30/KFOlCnqEu92Fr1MmWUlfCxc4AMP6lbBP.woff2) format(\\'woff2\\');unicode-range:U+0102-0103, U+0110-0111, U+0128-0129, U+0168-0169, U+01A0-01A1, U+01AF-01B0, U+0300-0301, U+0303-0304, U+0308-0309, U+0323, U+0329, U+1EA0-1EF9, U+20AB;}@font-face{font-family:\\'Roboto\\';font-style:normal;font-weight:700;src:url(https://fonts.gstatic.com/s/roboto/v30/KFOlCnqEu92Fr1MmWUlfChc4AMP6lbBP.woff2) format(\\'woff2\\');unicode-range:U+0100-02AF, U+0304, U+0308, U+0329, U+1E00-1E9F, U+1EF2-1EFF, U+2020, U+20A0-20AB, U+20AD-20C0, U+2113, U+2C60-2C7F, U+A720-A7FF;}@font-face{font-family:\\'Roboto\\';font-style:normal;font-weight:700;src:url(https://fonts.gstatic.com/s/roboto/v30/KFOlCnqEu92Fr1MmWUlfBBc4AMP6lQ.woff2) format(\\'woff2\\');unicode-range:U+0000-00FF, U+0131, U+0152-0153, U+02BB-02BC, U+02C6, U+02DA, U+02DC, U+0304, U+0308, U+0329, U+2000-206F, U+2074, U+20AC, U+2122, U+2191, U+2193, U+2212, U+2215, U+FEFF, U+FFFD;}</style>\\n<style type=\"text/css\">@font-face{font-family:\\'Material Icons\\';font-style:normal;font-weight:400;src:url(https://fonts.gstatic.com/s/materialicons/v142/flUhRq6tzZclQEJ-Vdg-IuiaDsNcIhQ8tQ.woff2) format(\\'woff2\\');}.material-icons{font-family:\\'Material Icons\\';font-weight:normal;font-style:normal;font-size:24px;line-height:1;letter-spacing:normal;text-transform:none;display:inline-block;white-space:nowrap;word-wrap:normal;direction:ltr;-webkit-font-feature-settings:\\'liga\\';-webkit-font-smoothing:antialiased;}</style>\\n<style>.mat-app-background{background-color:#fafafa;color:#000000de}body{margin:0;font-family:Roboto,Helvetica Neue,sans-serif;font-size:14px}body{--bkg-color:#454a52;--bkg-color-card:#41454c;--bkg-color-table-header:#30343a;--bkg-color-drawer:#2f3538;--bkg-color-chip:#565656;--text-color:white}</style><link rel=\"stylesheet\" href=\"styles.0e5765f4f3b96163.css\" media=\"print\" onload=\"this.media=\\'all\\'\"><noscript><link rel=\"stylesheet\" href=\"styles.0e5765f4f3b96163.css\"></noscript></head>\\n<body class=\"mat-app-background\">\\n<app-root></app-root>\\n<script src=\"runtime.5ccf0eaf286bbcaf.js\" type=\"module\"></script><script src=\"polyfills.c1bbed23f7787a63.js\" type=\"module\"></script><script src=\"main.ec23c62f04e9c1e2.js\" type=\"module\"></script>\\n</body></html>'\n"
          ]
        }
      ]
    },
    {
      "cell_type": "code",
      "source": [
        "###Access TacoShack's Sauce Market API\n",
        "api_url = 'https://tacoshack.online/api/saucemarket'\n",
        "response = requests.get(api_url)\n",
        "sauce_data = response.json()\n",
        "print(sauce_data)"
      ],
      "metadata": {
        "id": "cW9u7Bi-TJFS",
        "colab": {
          "base_uri": "https://localhost:8080/"
        },
        "outputId": "0c50ce73-b6a2-471c-85b7-0bb3ddd63ea0"
      },
      "execution_count": 26,
      "outputs": [
        {
          "output_type": "stream",
          "name": "stdout",
          "text": [
            "{'chipotle': {'name': 'chipotle', 'price': 354, 'volume': 0, 'history': [362, 366, 361, 357, 359, 356, 356, 354, 349, 347, 347, 349, 343, 337, 345, 344, 349, 363, 376, 390, 386, 381, 387, 389]}, 'guacamole': {'name': 'guacamole', 'price': 97, 'volume': 0, 'history': [108, 113, 111, 105, 107, 101, 103, 109, 123, 132, 142, 149, 161, 170, 158, 144, 131, 116, 106, 95, 96, 93, 96, 92]}, 'hotsauce': {'name': 'hotsauce', 'price': 87, 'volume': 0, 'history': [75, 75, 70, 70, 71, 76, 80, 84, 86, 87, 83, 78, 73, 71, 73, 73, 74, 73, 73, 69, 69, 71, 66, 66]}, 'pico': {'name': 'pico', 'price': 78, 'volume': 0, 'history': [70, 70, 66, 63, 65, 65, 65, 65, 67, 70, 74, 80, 80, 79, 80, 82, 83, 82, 79, 77, 74, 70, 70, 72]}, 'salsa': {'name': 'salsa', 'price': 91, 'volume': 0, 'history': [92, 93, 90, 90, 85, 91, 88, 92, 97, 103, 107, 110, 108, 108, 115, 124, 129, 140, 144, 150, 144, 149, 148, 150]}, 'secret_sauce': {'name': 'secret_sauce', 'price': 814, 'volume': 0, 'history': [942, 1016, 990, 950, 933, 946, 922, 936, 952, 913, 890, 854, 871, 855, 897, 939, 1006, 1048, 1078, 1139, 1212, 1285, 1329, 1374]}}\n"
          ]
        }
      ]
    },
    {
      "cell_type": "code",
      "source": [
        "#Create empty pandas dataframe\n",
        "sauce_df = pd.DataFrame()"
      ],
      "metadata": {
        "id": "hFzoRtgRI3oo"
      },
      "execution_count": 27,
      "outputs": []
    },
    {
      "cell_type": "code",
      "source": [
        "#Convert data to array\n",
        "sauce_array = []\n",
        "for sauce in sauce_data:\n",
        "    sauce_array.append(sauce_data[sauce])\n",
        "print(sauce_array)"
      ],
      "metadata": {
        "colab": {
          "base_uri": "https://localhost:8080/"
        },
        "id": "2qFAZXoAKOAV",
        "outputId": "a4ee5069-b382-47e5-aa63-7fd611f014c8"
      },
      "execution_count": 28,
      "outputs": [
        {
          "output_type": "stream",
          "name": "stdout",
          "text": [
            "[{'name': 'chipotle', 'price': 354, 'volume': 0, 'history': [362, 366, 361, 357, 359, 356, 356, 354, 349, 347, 347, 349, 343, 337, 345, 344, 349, 363, 376, 390, 386, 381, 387, 389]}, {'name': 'guacamole', 'price': 97, 'volume': 0, 'history': [108, 113, 111, 105, 107, 101, 103, 109, 123, 132, 142, 149, 161, 170, 158, 144, 131, 116, 106, 95, 96, 93, 96, 92]}, {'name': 'hotsauce', 'price': 87, 'volume': 0, 'history': [75, 75, 70, 70, 71, 76, 80, 84, 86, 87, 83, 78, 73, 71, 73, 73, 74, 73, 73, 69, 69, 71, 66, 66]}, {'name': 'pico', 'price': 78, 'volume': 0, 'history': [70, 70, 66, 63, 65, 65, 65, 65, 67, 70, 74, 80, 80, 79, 80, 82, 83, 82, 79, 77, 74, 70, 70, 72]}, {'name': 'salsa', 'price': 91, 'volume': 0, 'history': [92, 93, 90, 90, 85, 91, 88, 92, 97, 103, 107, 110, 108, 108, 115, 124, 129, 140, 144, 150, 144, 149, 148, 150]}, {'name': 'secret_sauce', 'price': 814, 'volume': 0, 'history': [942, 1016, 990, 950, 933, 946, 922, 936, 952, 913, 890, 854, 871, 855, 897, 939, 1006, 1048, 1078, 1139, 1212, 1285, 1329, 1374]}]\n"
          ]
        }
      ]
    },
    {
      "cell_type": "code",
      "source": [
        "#Remove 'history'\n",
        "for sauce in sauce_array:\n",
        "    del sauce['history']\n",
        "print(sauce_array)"
      ],
      "metadata": {
        "colab": {
          "base_uri": "https://localhost:8080/"
        },
        "id": "zpqsAi7RI7aU",
        "outputId": "e2c5058b-9f73-480e-8c7c-a897ee957818"
      },
      "execution_count": 29,
      "outputs": [
        {
          "output_type": "stream",
          "name": "stdout",
          "text": [
            "[{'name': 'chipotle', 'price': 354, 'volume': 0}, {'name': 'guacamole', 'price': 97, 'volume': 0}, {'name': 'hotsauce', 'price': 87, 'volume': 0}, {'name': 'pico', 'price': 78, 'volume': 0}, {'name': 'salsa', 'price': 91, 'volume': 0}, {'name': 'secret_sauce', 'price': 814, 'volume': 0}]\n"
          ]
        }
      ]
    },
    {
      "cell_type": "code",
      "source": [
        "#Obtain most recent year, month, day, and hour using Pandas\n",
        "now = pd.Timestamp.now()\n",
        "print(now)\n",
        "#truncate now to date and hour\n",
        "now_hour = now.floor('h')\n",
        "print(now_hour)\n",
        "#subtract one hour from now_hour\n",
        "now_minus_1 = now_hour - pd.Timedelta(hours=1)\n",
        "print(now_minus_1)"
      ],
      "metadata": {
        "colab": {
          "base_uri": "https://localhost:8080/"
        },
        "id": "-ON_ObqYKoGv",
        "outputId": "44f256ad-7da6-49ae-8dc1-bb7047961b2f"
      },
      "execution_count": 38,
      "outputs": [
        {
          "output_type": "stream",
          "name": "stdout",
          "text": [
            "2024-07-19 04:14:12.631536\n",
            "2024-07-19 04:00:00\n",
            "2024-07-19 03:00:00\n"
          ]
        }
      ]
    },
    {
      "cell_type": "code",
      "source": [
        "#attach now_minus_1 to each object in sauce_array\n",
        "for sauce in sauce_array:\n",
        "    sauce['datetime'] = now_minus_1\n",
        "print(sauce_array)"
      ],
      "metadata": {
        "colab": {
          "base_uri": "https://localhost:8080/"
        },
        "id": "OZu-UxKeMwEM",
        "outputId": "3a9968bc-2622-47e5-bce3-00e4dac4a690"
      },
      "execution_count": 39,
      "outputs": [
        {
          "output_type": "stream",
          "name": "stdout",
          "text": [
            "[{'name': 'chipotle', 'price': 354, 'volume': 0, 'datetime': Timestamp('2024-07-19 03:00:00')}, {'name': 'guacamole', 'price': 97, 'volume': 0, 'datetime': Timestamp('2024-07-19 03:00:00')}, {'name': 'hotsauce', 'price': 87, 'volume': 0, 'datetime': Timestamp('2024-07-19 03:00:00')}, {'name': 'pico', 'price': 78, 'volume': 0, 'datetime': Timestamp('2024-07-19 03:00:00')}, {'name': 'salsa', 'price': 91, 'volume': 0, 'datetime': Timestamp('2024-07-19 03:00:00')}, {'name': 'secret_sauce', 'price': 814, 'volume': 0, 'datetime': Timestamp('2024-07-19 03:00:00')}]\n"
          ]
        }
      ]
    },
    {
      "cell_type": "code",
      "source": [
        "#Convert sauce_array to Pandas dataframe and reorder columns\n",
        "sauce_df = pd.DataFrame(sauce_array)\n",
        "sauce_df.insert(0, 'datetime', sauce_df.pop('datetime'))\n",
        "#Set datetime column as the index of sauce_df\n",
        "sauce_df.set_index('datetime', inplace=True)\n",
        "print(sauce_df, '\\n\\n', sauce_df.info())"
      ],
      "metadata": {
        "colab": {
          "base_uri": "https://localhost:8080/"
        },
        "id": "mnD_pQboJ5XW",
        "outputId": "85e25f4a-d476-42f7-85fb-b6caa5c2cd33"
      },
      "execution_count": 62,
      "outputs": [
        {
          "output_type": "stream",
          "name": "stdout",
          "text": [
            "<class 'pandas.core.frame.DataFrame'>\n",
            "DatetimeIndex: 6 entries, 2024-07-19 03:00:00 to 2024-07-19 03:00:00\n",
            "Data columns (total 3 columns):\n",
            " #   Column  Non-Null Count  Dtype \n",
            "---  ------  --------------  ----- \n",
            " 0   name    6 non-null      object\n",
            " 1   price   6 non-null      int64 \n",
            " 2   volume  6 non-null      int64 \n",
            "dtypes: int64(2), object(1)\n",
            "memory usage: 192.0+ bytes\n",
            "                             name  price  volume\n",
            "datetime                                        \n",
            "2024-07-19 03:00:00      chipotle    354       0\n",
            "2024-07-19 03:00:00     guacamole     97       0\n",
            "2024-07-19 03:00:00      hotsauce     87       0\n",
            "2024-07-19 03:00:00          pico     78       0\n",
            "2024-07-19 03:00:00         salsa     91       0\n",
            "2024-07-19 03:00:00  secret_sauce    814       0 \n",
            "\n",
            " None\n"
          ]
        }
      ]
    },
    {
      "cell_type": "code",
      "source": [
        "#Export sauce_df as csv\n",
        "sauce_df.to_csv('sauce_df.csv')"
      ],
      "metadata": {
        "id": "18gOXo6iRKMv"
      },
      "execution_count": null,
      "outputs": []
    },
    {
      "cell_type": "code",
      "source": [
        "#Use pandas concat to append new_sauce_df to end of sauce_df\n",
        "sauce_df = pd.concat([sauce_df, sauce_df])"
      ],
      "metadata": {
        "colab": {
          "base_uri": "https://localhost:8080/"
        },
        "id": "59yvsBHRQEvw",
        "outputId": "66a08a36-3949-4314-d39e-1a8207d8e39a"
      },
      "execution_count": 63,
      "outputs": [
        {
          "output_type": "stream",
          "name": "stdout",
          "text": [
            "<class 'pandas.core.frame.DataFrame'>\n",
            "DatetimeIndex: 12 entries, 2024-07-19 03:00:00 to 2024-07-19 03:00:00\n",
            "Data columns (total 3 columns):\n",
            " #   Column  Non-Null Count  Dtype \n",
            "---  ------  --------------  ----- \n",
            " 0   name    12 non-null     object\n",
            " 1   price   12 non-null     int64 \n",
            " 2   volume  12 non-null     int64 \n",
            "dtypes: int64(2), object(1)\n",
            "memory usage: 384.0+ bytes\n",
            "                             name  price  volume\n",
            "datetime                                        \n",
            "2024-07-19 03:00:00      chipotle    354       0\n",
            "2024-07-19 03:00:00     guacamole     97       0\n",
            "2024-07-19 03:00:00      hotsauce     87       0\n",
            "2024-07-19 03:00:00          pico     78       0\n",
            "2024-07-19 03:00:00         salsa     91       0\n",
            "2024-07-19 03:00:00  secret_sauce    814       0\n",
            "2024-07-19 03:00:00      chipotle    354       0\n",
            "2024-07-19 03:00:00     guacamole     97       0\n",
            "2024-07-19 03:00:00      hotsauce     87       0\n",
            "2024-07-19 03:00:00          pico     78       0\n",
            "2024-07-19 03:00:00         salsa     91       0\n",
            "2024-07-19 03:00:00  secret_sauce    814       0 \n",
            "\n",
            " None\n"
          ]
        }
      ]
    },
    {
      "cell_type": "code",
      "source": [
        "###IMPORT CSV CODE\n",
        "sauce_df = pd.read_csv('ENTER_URL', parse_dates=['datetime'])\n",
        "print(sauce_df.head)"
      ],
      "metadata": {
        "id": "M0bh3T6iNvpt"
      },
      "execution_count": null,
      "outputs": []
    }
  ]
}